{
 "cells": [
  {
   "cell_type": "code",
   "execution_count": 1,
   "metadata": {},
   "outputs": [],
   "source": [
    "import openeo\n",
    "from openeo.rest.datacube import THIS"
   ]
  },
  {
   "cell_type": "code",
   "execution_count": 2,
   "metadata": {},
   "outputs": [],
   "source": [
    "eodc_backend = \"https://openeo.eodc.eu/openeo/1.1.0/\""
   ]
  },
  {
   "cell_type": "code",
   "execution_count": 4,
   "metadata": {},
   "outputs": [
    {
     "name": "stdout",
     "output_type": "stream",
     "text": [
      "Authenticated using refresh token.\n"
     ]
    }
   ],
   "source": [
    "conn = openeo.connect(eodc_backend).authenticate_oidc(provider_id=\"egi\")"
   ]
  },
  {
   "cell_type": "code",
   "execution_count": 5,
   "metadata": {},
   "outputs": [
    {
     "data": {
      "text/html": [
       "\n",
       "    <script>\n",
       "    if (!window.customElements || !window.customElements.get('openeo-process')) {\n",
       "        var el = document.createElement('script');\n",
       "        el.src = \"https://cdn.jsdelivr.net/npm/@openeo/vue-components@2/assets/openeo.min.js\";\n",
       "        document.head.appendChild(el);\n",
       "\n",
       "        var font = document.createElement('font');\n",
       "        font.as = \"font\";\n",
       "        font.type = \"font/woff2\";\n",
       "        font.crossOrigin = true;\n",
       "        font.href = \"https://use.fontawesome.com/releases/v5.13.0/webfonts/fa-solid-900.woff2\"\n",
       "        document.head.appendChild(font);\n",
       "    }\n",
       "    </script>\n",
       "    <openeo-process>\n",
       "        <script type=\"application/json\">{\"show-graph\": true, \"provide-download\": false, \"process\": {\"id\": \"sen2like\", \"summary\": \"Run the Sen2like processor \", \"description\": \"The Sen2like processor generates Sentinel-2-like harmonised or fused surface reflectances with higher periodicity by integrating additional compatible optical mission sensors. The source code is available at https://github.com/senbox-org/sen2like.\", \"categories\": [\"cubes\"], \"parameters\": [{\"name\": \"data\", \"description\": \"The datacube for which to generate L2F & L2H level data.\", \"optional\": true, \"schema\": {\"type\": \"object\", \"subtype\": \"raster-cube\"}}, {\"name\": \"spatial_extent\", \"description\": \"Limits the data to load from the collection to the specified bounding box or polygons.\\n\\nThe process puts a pixel into the data cube if the point at the pixel center intersects with the bounding box or any of the polygons (as defined in the Simple Features standard by the OGC).\\n\\nThe GeoJSON can be one of the following feature types:\\n\\n* A `Polygon` or `MultiPolygon` geometry,\\n* a `Feature` with a `Polygon` or `MultiPolygon` geometry,\\n* a `FeatureCollection` containing at least one `Feature` with `Polygon` or `MultiPolygon` geometries, or\\n* a `GeometryCollection` containing `Polygon` or `MultiPolygon` geometries. To maximize interoperability, `GeometryCollection` should be avoided in favour of one of the alternatives above.\\n\\nSet this parameter to `null` to set no limit for the spatial extent. Be careful with this when loading large datasets! It is recommended to use this parameter instead of using ``filter_bbox()`` or ``filter_spatial()`` directly after loading unbounded data.\", \"optional\": true, \"schema\": [{\"type\": \"object\", \"subtype\": \"bounding-box\", \"required\": [\"west\", \"south\", \"east\", \"north\"], \"properties\": {\"west\": {\"description\": \"West (lower left corner, coordinate axis 1).\", \"type\": \"number\"}, \"south\": {\"description\": \"South (lower left corner, coordinate axis 2).\", \"type\": \"number\"}, \"east\": {\"description\": \"East (upper right corner, coordinate axis 1).\", \"type\": \"number\"}, \"north\": {\"description\": \"North (upper right corner, coordinate axis 2).\", \"type\": \"number\"}, \"base\": {\"description\": \"Base (optional, lower left corner, coordinate axis 3).\", \"type\": [\"number\", \"null\"]}, \"height\": {\"description\": \"Height (optional, upper right corner, coordinate axis 3).\", \"type\": [\"number\", \"null\"]}, \"crs\": {\"description\": \"Coordinate reference system of the extent, specified as as [EPSG code](http://www.epsg-registry.org/), [WKT2 (ISO 19162) string](http://docs.opengeospatial.org/is/18-010r7/18-010r7.html) or [PROJ definition (deprecated)](https://proj.org/usage/quickstart.html). Defaults to `4326` (EPSG code 4326) unless the client explicitly requests a different coordinate reference system.\", \"anyOf\": [{\"title\": \"EPSG Code\", \"type\": \"integer\", \"subtype\": \"epsg-code\", \"minimum\": 1000, \"examples\": [3857]}, {\"title\": \"WKT2\", \"type\": \"string\", \"subtype\": \"wkt2-definition\"}, {\"title\": \"PROJ definition\", \"type\": \"string\", \"subtype\": \"proj-definition\", \"deprecated\": true}], \"default\": 4326}}, \"title\": \"Bounding Box\"}]}, {\"name\": \"temporal_extent\", \"description\": \"Limits the data to load from the collection to the specified left-closed temporal interval. Applies to all temporal dimensions. The interval has to be specified as an array with exactly two elements:\\n\\n1. The first element is the start of the temporal interval. The specified instance in time is **included** in the interval.\\n2. The second element is the end of the temporal interval. The specified instance in time is **excluded** from the interval.\\n\\nThe specified temporal strings follow [RFC 3339](https://www.rfc-editor.org/rfc/rfc3339.html). Also supports open intervals by setting one of the boundaries to `null`, but never both.\\n\\nSet this parameter to `null` to set no limit for the temporal extent. Be careful with this when loading large datasets! It is recommended to use this parameter instead of using ``filter_temporal()`` directly after loading unbounded data.\", \"optional\": true, \"schema\": [{\"type\": \"array\", \"subtype\": \"temporal-interval\", \"minItems\": 2.0, \"maxItems\": 2.0, \"items\": {\"anyOf\": [{\"type\": \"string\", \"format\": \"date-time\", \"subtype\": \"date-time\"}, {\"type\": \"string\", \"format\": \"date\", \"subtype\": \"date\"}, {\"type\": \"string\", \"subtype\": \"year\", \"minLength\": 4, \"maxLength\": 4, \"pattern\": \"^\\\\d{4}$\"}, {\"type\": \"null\"}]}, \"examples\": [[\"2015-01-01T00:00:00Z\", \"2016-01-01T00:00:00Z\"], [\"2015-01-01\", \"2016-01-01\"]]}]}, {\"name\": \"target_product\", \"description\": \"Per default the target_product is set to 'L2F' to generate the fused sen2like product. Set to 'L2H' to generate the harmonised product.\", \"optional\": true, \"default\": \"L2F\", \"schema\": {\"type\": \"string\"}}, {\"name\": \"target_resolution\", \"description\": \"Per default the target_resolution is 10 m for the bands 'B02', 'B03', 'B04'. Set to 20 to retrieve 20 m resolution results of 'B8A', 'B11', 'B12' or to 60 for 'B01'.\", \"optional\": true, \"default\": 10, \"schema\": {\"type\": \"number\"}}, {\"name\": \"options\", \"description\": \"Proprietary options for the sen2like processing.\", \"optional\": true, \"default\": {}, \"schema\": {\"type\": \"object\", \"additionalProperties\": false}}], \"returns\": {\"description\": \"Sen2like enriched data cube\", \"schema\": {\"type\": \"object\", \"subtype\": \"raster-cube\"}}, \"experimental\": true, \"links\": [{\"rel\": \"about\", \"href\": \"https://openeo.org/documentation/1.0/datacubes.html\", \"title\": \"Data Cubes explained in the openEO documentation\"}, {\"rel\": \"about\", \"href\": \"https://github.com/senbox-org/sen2like\", \"title\": \"Source code for the sen2like processor\"}]}}</script>\n",
       "    </openeo-process>\n",
       "    "
      ],
      "text/plain": [
       "{'id': 'sen2like',\n",
       " 'summary': 'Run the Sen2like processor ',\n",
       " 'description': 'The Sen2like processor generates Sentinel-2-like harmonised or fused surface reflectances with higher periodicity by integrating additional compatible optical mission sensors. The source code is available at https://github.com/senbox-org/sen2like.',\n",
       " 'categories': ['cubes'],\n",
       " 'parameters': [{'name': 'data',\n",
       "   'description': 'The datacube for which to generate L2F & L2H level data.',\n",
       "   'optional': True,\n",
       "   'schema': {'type': 'object', 'subtype': 'raster-cube'}},\n",
       "  {'name': 'spatial_extent',\n",
       "   'description': 'Limits the data to load from the collection to the specified bounding box or polygons.\\n\\nThe process puts a pixel into the data cube if the point at the pixel center intersects with the bounding box or any of the polygons (as defined in the Simple Features standard by the OGC).\\n\\nThe GeoJSON can be one of the following feature types:\\n\\n* A `Polygon` or `MultiPolygon` geometry,\\n* a `Feature` with a `Polygon` or `MultiPolygon` geometry,\\n* a `FeatureCollection` containing at least one `Feature` with `Polygon` or `MultiPolygon` geometries, or\\n* a `GeometryCollection` containing `Polygon` or `MultiPolygon` geometries. To maximize interoperability, `GeometryCollection` should be avoided in favour of one of the alternatives above.\\n\\nSet this parameter to `null` to set no limit for the spatial extent. Be careful with this when loading large datasets! It is recommended to use this parameter instead of using ``filter_bbox()`` or ``filter_spatial()`` directly after loading unbounded data.',\n",
       "   'optional': True,\n",
       "   'schema': [{'type': 'object',\n",
       "     'subtype': 'bounding-box',\n",
       "     'required': ['west', 'south', 'east', 'north'],\n",
       "     'properties': {'west': {'description': 'West (lower left corner, coordinate axis 1).',\n",
       "       'type': 'number'},\n",
       "      'south': {'description': 'South (lower left corner, coordinate axis 2).',\n",
       "       'type': 'number'},\n",
       "      'east': {'description': 'East (upper right corner, coordinate axis 1).',\n",
       "       'type': 'number'},\n",
       "      'north': {'description': 'North (upper right corner, coordinate axis 2).',\n",
       "       'type': 'number'},\n",
       "      'base': {'description': 'Base (optional, lower left corner, coordinate axis 3).',\n",
       "       'type': ['number', 'null']},\n",
       "      'height': {'description': 'Height (optional, upper right corner, coordinate axis 3).',\n",
       "       'type': ['number', 'null']},\n",
       "      'crs': {'description': 'Coordinate reference system of the extent, specified as as [EPSG code](http://www.epsg-registry.org/), [WKT2 (ISO 19162) string](http://docs.opengeospatial.org/is/18-010r7/18-010r7.html) or [PROJ definition (deprecated)](https://proj.org/usage/quickstart.html). Defaults to `4326` (EPSG code 4326) unless the client explicitly requests a different coordinate reference system.',\n",
       "       'anyOf': [{'title': 'EPSG Code',\n",
       "         'type': 'integer',\n",
       "         'subtype': 'epsg-code',\n",
       "         'minimum': 1000,\n",
       "         'examples': [3857]},\n",
       "        {'title': 'WKT2', 'type': 'string', 'subtype': 'wkt2-definition'},\n",
       "        {'title': 'PROJ definition',\n",
       "         'type': 'string',\n",
       "         'subtype': 'proj-definition',\n",
       "         'deprecated': True}],\n",
       "       'default': 4326}},\n",
       "     'title': 'Bounding Box'}]},\n",
       "  {'name': 'temporal_extent',\n",
       "   'description': 'Limits the data to load from the collection to the specified left-closed temporal interval. Applies to all temporal dimensions. The interval has to be specified as an array with exactly two elements:\\n\\n1. The first element is the start of the temporal interval. The specified instance in time is **included** in the interval.\\n2. The second element is the end of the temporal interval. The specified instance in time is **excluded** from the interval.\\n\\nThe specified temporal strings follow [RFC 3339](https://www.rfc-editor.org/rfc/rfc3339.html). Also supports open intervals by setting one of the boundaries to `null`, but never both.\\n\\nSet this parameter to `null` to set no limit for the temporal extent. Be careful with this when loading large datasets! It is recommended to use this parameter instead of using ``filter_temporal()`` directly after loading unbounded data.',\n",
       "   'optional': True,\n",
       "   'schema': [{'type': 'array',\n",
       "     'subtype': 'temporal-interval',\n",
       "     'minItems': 2.0,\n",
       "     'maxItems': 2.0,\n",
       "     'items': {'anyOf': [{'type': 'string',\n",
       "        'format': 'date-time',\n",
       "        'subtype': 'date-time'},\n",
       "       {'type': 'string', 'format': 'date', 'subtype': 'date'},\n",
       "       {'type': 'string',\n",
       "        'subtype': 'year',\n",
       "        'minLength': 4,\n",
       "        'maxLength': 4,\n",
       "        'pattern': '^\\\\d{4}$'},\n",
       "       {'type': 'null'}]},\n",
       "     'examples': [['2015-01-01T00:00:00Z', '2016-01-01T00:00:00Z'],\n",
       "      ['2015-01-01', '2016-01-01']]}]},\n",
       "  {'name': 'target_product',\n",
       "   'description': \"Per default the target_product is set to 'L2F' to generate the fused sen2like product. Set to 'L2H' to generate the harmonised product.\",\n",
       "   'optional': True,\n",
       "   'default': 'L2F',\n",
       "   'schema': {'type': 'string'}},\n",
       "  {'name': 'target_resolution',\n",
       "   'description': \"Per default the target_resolution is 10 m for the bands 'B02', 'B03', 'B04'. Set to 20 to retrieve 20 m resolution results of 'B8A', 'B11', 'B12' or to 60 for 'B01'.\",\n",
       "   'optional': True,\n",
       "   'default': 10,\n",
       "   'schema': {'type': 'number'}},\n",
       "  {'name': 'options',\n",
       "   'description': 'Proprietary options for the sen2like processing.',\n",
       "   'optional': True,\n",
       "   'default': {},\n",
       "   'schema': {'type': 'object', 'additionalProperties': False}}],\n",
       " 'returns': {'description': 'Sen2like enriched data cube',\n",
       "  'schema': {'type': 'object', 'subtype': 'raster-cube'}},\n",
       " 'experimental': True,\n",
       " 'links': [{'rel': 'about',\n",
       "   'href': 'https://openeo.org/documentation/1.0/datacubes.html',\n",
       "   'title': 'Data Cubes explained in the openEO documentation'},\n",
       "  {'rel': 'about',\n",
       "   'href': 'https://github.com/senbox-org/sen2like',\n",
       "   'title': 'Source code for the sen2like processor'}]}"
      ]
     },
     "execution_count": 5,
     "metadata": {},
     "output_type": "execute_result"
    }
   ],
   "source": [
    "conn.describe_process(\"sen2like\")"
   ]
  },
  {
   "cell_type": "code",
   "execution_count": 8,
   "metadata": {},
   "outputs": [],
   "source": [
    "options = {\n",
    "    \"doGeometry\": True, \n",
    "    \"doStitching\": True,\n",
    "    \"doGeometryCheck\": True, \n",
    "    \"doToa\": True, \n",
    "    \"doInterCalibration\": True, \n",
    "    \"doAtmcor\": True, \n",
    "    \"doNbar\": True, \n",
    "    \"doSbaf\": True\n",
    "}"
   ]
  },
  {
   "cell_type": "code",
   "execution_count": 9,
   "metadata": {},
   "outputs": [],
   "source": [
    "# SEN2LIKE\n",
    "collection      = 'sentinel-2-l1c'\n",
    "spatial_extent  = {\"west\": 15.99, \"east\": 16, \"south\": 46.99, \"north\": 47}\n",
    "temporal_extent = [\"2023-06-01\", \"2023-06-28\"]\n",
    "\n",
    "S2 = conn.load_collection(collection,spatial_extent=spatial_extent,temporal_extent=temporal_extent)\n",
    "s2l = S2.process('sen2like', {\n",
    "    'spatial_extent': spatial_extent, \n",
    "    'temporal_extent': temporal_extent, \n",
    "    'target_product': 'L2F', \n",
    "    'target_resolution': 10,\n",
    "    'options': options})\n",
    "s2l_save = s2l.save_result(format=\"NetCDF\") # \"GTiff\"\n",
    "\n",
    "job = s2l_save.create_job()\n",
    "job.start_job()"
   ]
  },
  {
   "cell_type": "code",
   "execution_count": 13,
   "metadata": {},
   "outputs": [
    {
     "data": {
      "text/html": [
       "\n",
       "    <script>\n",
       "    if (!window.customElements || !window.customElements.get('openeo-job')) {\n",
       "        var el = document.createElement('script');\n",
       "        el.src = \"https://cdn.jsdelivr.net/npm/@openeo/vue-components@2/assets/openeo.min.js\";\n",
       "        document.head.appendChild(el);\n",
       "\n",
       "        var font = document.createElement('font');\n",
       "        font.as = \"font\";\n",
       "        font.type = \"font/woff2\";\n",
       "        font.crossOrigin = true;\n",
       "        font.href = \"https://use.fontawesome.com/releases/v5.13.0/webfonts/fa-solid-900.woff2\"\n",
       "        document.head.appendChild(font);\n",
       "    }\n",
       "    </script>\n",
       "    <openeo-job>\n",
       "        <script type=\"application/json\">{\"currency\": \"EUR\", \"job\": {\"id\": \"5a08e174-026b-46ef-a086-9081c96359ed\", \"process\": {\"id\": \"D1E12EC5CCD9435A\", \"process_graph\": {\"sen2like1\": {\"process_id\": \"sen2like\", \"arguments\": {\"options\": {\"doGeometry\": true, \"doStitching\": false, \"doGeometryCheck\": true, \"doToa\": true, \"doInterCalibration\": true, \"doAtmcor\": true, \"doNbar\": true, \"doSbaf\": true}, \"spatial_extent\": {\"west\": 15.99, \"east\": 16, \"south\": 46.99, \"north\": 47}, \"target_product\": \"L2F\", \"target_resolution\": 10, \"temporal_extent\": [\"2023-06-01\", \"2023-06-28\"]}}, \"saveresult1\": {\"process_id\": \"save_result\", \"arguments\": {\"data\": {\"from_node\": \"sen2like1\"}, \"format\": \"NetCDF\", \"options\": {}}, \"result\": true}}}, \"status\": \"running\", \"created\": \"2023-06-30T11:36:23Z\"}}</script>\n",
       "    </openeo-job>\n",
       "    "
      ],
      "text/plain": [
       "<BatchJob job_id='5a08e174-026b-46ef-a086-9081c96359ed'>"
      ]
     },
     "execution_count": 13,
     "metadata": {},
     "output_type": "execute_result"
    }
   ],
   "source": [
    "job"
   ]
  },
  {
   "cell_type": "code",
   "execution_count": 14,
   "metadata": {},
   "outputs": [
    {
     "data": {
      "text/plain": [
       "('5a08e174-026b-46ef-a086-9081c96359ed', 'running')"
      ]
     },
     "execution_count": 14,
     "metadata": {},
     "output_type": "execute_result"
    }
   ],
   "source": [
    "job.job_id, job.status()"
   ]
  },
  {
   "cell_type": "code",
   "execution_count": 15,
   "metadata": {},
   "outputs": [],
   "source": [
    "results = job.get_results()\n",
    "metadata = results.get_metadata()"
   ]
  },
  {
   "cell_type": "code",
   "execution_count": 17,
   "metadata": {},
   "outputs": [
    {
     "data": {
      "text/plain": [
       "{'stac_version': '1.0.0',\n",
       " 'stac_extensions': None,\n",
       " 'type': 'Collection',\n",
       " 'id': '56383c4a-3445-4838-8af6-891144a6418e',\n",
       " 'title': None,\n",
       " 'description': 'Auto generate stac collection for OpenEO Job results.',\n",
       " 'keywords': None,\n",
       " 'version': None,\n",
       " 'deprecated': False,\n",
       " 'license': 'proprietary',\n",
       " 'providers': None,\n",
       " 'extent': {'spatial': {'bbox': [[14.823254,\n",
       "     46.742838,\n",
       "     16.612428,\n",
       "     47.965445]]},\n",
       "  'temporal': {'interval': [['2023-06-12T16:36:48.998475Z',\n",
       "     '2023-06-12T16:36:52.039844Z']]}},\n",
       " 'links': [{'rel': 'self',\n",
       "   'href': 'https://openeo-dev.eodc.eu/openeo/1.1.0/jobs/56383c4a-3445-4838-8af6-891144a6418e/results',\n",
       "   'type': 'application/json',\n",
       "   'title': None},\n",
       "  {'rel': 'root',\n",
       "   'href': 'https://openeo-dev.eodc.eu/openeo/1.1.0/jobs/56383c4a-3445-4838-8af6-891144a6418e/results',\n",
       "   'type': 'application/json',\n",
       "   'title': None},\n",
       "  {'rel': 'canonical',\n",
       "   'href': 'https://openeo-dev.eodc.eu/openeo/1.1.0/jobs/56383c4a-3445-4838-8af6-891144a6418e/results?Expires=1687325981&KeyName=SIGN_KEY_1&UserId=ae8b60a5-63f9-4fa5-9f1b-644fba6f8b60&Signature=w9geEgrFOdTKKNMW_RTXVGtnuvk=',\n",
       "   'type': None,\n",
       "   'title': None}],\n",
       " 'cube:dimensions': None,\n",
       " 'summaries': {'processing:expression': ['https://openeo-dev.eodc.eu/openeo/1.1.0/jobs/56383c4a-3445-4838-8af6-891144a6418e/results/process?Expires=1687325981&KeyName=SIGN_KEY_1&UserId=ae8b60a5-63f9-4fa5-9f1b-644fba6f8b60&Signature=CvJrgn1wf_2-yHmeBRIWAolurqU='],\n",
       "  'datetime': {'minimum': '2023-06-12 16:36:48.998475+00:00',\n",
       "   'maximum': '2023-06-12 16:36:52.039844+00:00'}},\n",
       " 'assets': {'EU010M_E051N015T1_20230221T095736.tif': {'href': 'https://openeo-dev.eodc.eu/openeo/1.1.0/files/56383c4a-3445-4838-8af6-891144a6418e/result/EU010M_E051N015T1_20230221T095736.tif?Expires=1687325981&KeyName=SIGN_KEY_1&UserId=ae8b60a5-63f9-4fa5-9f1b-644fba6f8b60&Signature=L-OjEeevItp_iXsId00HGbJO8Ek=',\n",
       "   'title': 'EU010M_E051N015T1_20230221T095736',\n",
       "   'equi7:proj': '+proj=aeqd +lat_0=53 +lon_0=24 +x_0=5837287.81977 +y_0=2121415.69617 +datum=WGS84 +units=m +no_defs',\n",
       "   'roles': ['data']},\n",
       "  'EU010M_E051N015T1_20230219T100731.tif': {'href': 'https://openeo-dev.eodc.eu/openeo/1.1.0/files/56383c4a-3445-4838-8af6-891144a6418e/result/EU010M_E051N015T1_20230219T100731.tif?Expires=1687325981&KeyName=SIGN_KEY_1&UserId=ae8b60a5-63f9-4fa5-9f1b-644fba6f8b60&Signature=36f_feM_O1r0JJRILyFzB_wlEPk=',\n",
       "   'title': 'EU010M_E051N015T1_20230219T100731',\n",
       "   'equi7:proj': '+proj=aeqd +lat_0=53 +lon_0=24 +x_0=5837287.81977 +y_0=2121415.69617 +datum=WGS84 +units=m +no_defs',\n",
       "   'roles': ['data']},\n",
       "  'EU010M_E051N014T1_20230222T094543.tif': {'href': 'https://openeo-dev.eodc.eu/openeo/1.1.0/files/56383c4a-3445-4838-8af6-891144a6418e/result/EU010M_E051N014T1_20230222T094543.tif?Expires=1687325981&KeyName=SIGN_KEY_1&UserId=ae8b60a5-63f9-4fa5-9f1b-644fba6f8b60&Signature=ozU-teL0gTTOjCMndJ-16DAsnGY=',\n",
       "   'title': 'EU010M_E051N014T1_20230222T094543',\n",
       "   'equi7:proj': '+proj=aeqd +lat_0=53 +lon_0=24 +x_0=5837287.81977 +y_0=2121415.69617 +datum=WGS84 +units=m +no_defs',\n",
       "   'roles': ['data']},\n",
       "  'EU010M_E052N015T1_20230209T100732.tif': {'href': 'https://openeo-dev.eodc.eu/openeo/1.1.0/files/56383c4a-3445-4838-8af6-891144a6418e/result/EU010M_E052N015T1_20230209T100732.tif?Expires=1687325981&KeyName=SIGN_KEY_1&UserId=ae8b60a5-63f9-4fa5-9f1b-644fba6f8b60&Signature=AlQIq56ijBDjjE9nsGUYewNntuI=',\n",
       "   'title': 'EU010M_E052N015T1_20230209T100732',\n",
       "   'equi7:proj': '+proj=aeqd +lat_0=53 +lon_0=24 +x_0=5837287.81977 +y_0=2121415.69617 +datum=WGS84 +units=m +no_defs',\n",
       "   'roles': ['data']},\n",
       "  'EU010M_E052N015T1_20230214T094604.tif': {'href': 'https://openeo-dev.eodc.eu/openeo/1.1.0/files/56383c4a-3445-4838-8af6-891144a6418e/result/EU010M_E052N015T1_20230214T094604.tif?Expires=1687325981&KeyName=SIGN_KEY_1&UserId=ae8b60a5-63f9-4fa5-9f1b-644fba6f8b60&Signature=Mj7m8XGhJtEW4krKSch8wsUFVJA=',\n",
       "   'title': 'EU010M_E052N015T1_20230214T094604',\n",
       "   'equi7:proj': '+proj=aeqd +lat_0=53 +lon_0=24 +x_0=5837287.81977 +y_0=2121415.69617 +datum=WGS84 +units=m +no_defs',\n",
       "   'roles': ['data']},\n",
       "  'EU010M_E052N014T1_20230219T100731.tif': {'href': 'https://openeo-dev.eodc.eu/openeo/1.1.0/files/56383c4a-3445-4838-8af6-891144a6418e/result/EU010M_E052N014T1_20230219T100731.tif?Expires=1687325981&KeyName=SIGN_KEY_1&UserId=ae8b60a5-63f9-4fa5-9f1b-644fba6f8b60&Signature=LL0pUmtHb4Iih9xlOHdn67vhLbo=',\n",
       "   'title': 'EU010M_E052N014T1_20230219T100731',\n",
       "   'equi7:proj': '+proj=aeqd +lat_0=53 +lon_0=24 +x_0=5837287.81977 +y_0=2121415.69617 +datum=WGS84 +units=m +no_defs',\n",
       "   'roles': ['data']},\n",
       "  'EU010M_E051N015T1_20230214T094604.tif': {'href': 'https://openeo-dev.eodc.eu/openeo/1.1.0/files/56383c4a-3445-4838-8af6-891144a6418e/result/EU010M_E051N015T1_20230214T094604.tif?Expires=1687325981&KeyName=SIGN_KEY_1&UserId=ae8b60a5-63f9-4fa5-9f1b-644fba6f8b60&Signature=cqLSsFV7b74tQt3tGg7QDMNNVCc=',\n",
       "   'title': 'EU010M_E051N015T1_20230214T094604',\n",
       "   'equi7:proj': '+proj=aeqd +lat_0=53 +lon_0=24 +x_0=5837287.81977 +y_0=2121415.69617 +datum=WGS84 +units=m +no_defs',\n",
       "   'roles': ['data']},\n",
       "  'EU010M_E052N014T1_20230221T095736.tif': {'href': 'https://openeo-dev.eodc.eu/openeo/1.1.0/files/56383c4a-3445-4838-8af6-891144a6418e/result/EU010M_E052N014T1_20230221T095736.tif?Expires=1687325981&KeyName=SIGN_KEY_1&UserId=ae8b60a5-63f9-4fa5-9f1b-644fba6f8b60&Signature=epgrz99Tbl8bOCOz0B-I7sMjPX0=',\n",
       "   'title': 'EU010M_E052N014T1_20230221T095736',\n",
       "   'equi7:proj': '+proj=aeqd +lat_0=53 +lon_0=24 +x_0=5837287.81977 +y_0=2121415.69617 +datum=WGS84 +units=m +no_defs',\n",
       "   'roles': ['data']},\n",
       "  'EU010M_E052N014T1_20230209T100732.tif': {'href': 'https://openeo-dev.eodc.eu/openeo/1.1.0/files/56383c4a-3445-4838-8af6-891144a6418e/result/EU010M_E052N014T1_20230209T100732.tif?Expires=1687325981&KeyName=SIGN_KEY_1&UserId=ae8b60a5-63f9-4fa5-9f1b-644fba6f8b60&Signature=WlOjo_UyihJH_5_YxBw9OSfH1s8=',\n",
       "   'title': 'EU010M_E052N014T1_20230209T100732',\n",
       "   'equi7:proj': '+proj=aeqd +lat_0=53 +lon_0=24 +x_0=5837287.81977 +y_0=2121415.69617 +datum=WGS84 +units=m +no_defs',\n",
       "   'roles': ['data']},\n",
       "  'EU010M_E052N014T1_20230214T100732.tif': {'href': 'https://openeo-dev.eodc.eu/openeo/1.1.0/files/56383c4a-3445-4838-8af6-891144a6418e/result/EU010M_E052N014T1_20230214T100732.tif?Expires=1687325981&KeyName=SIGN_KEY_1&UserId=ae8b60a5-63f9-4fa5-9f1b-644fba6f8b60&Signature=nPQt81cJsvlUeP_gmpB-euiPxrE=',\n",
       "   'title': 'EU010M_E052N014T1_20230214T100732',\n",
       "   'equi7:proj': '+proj=aeqd +lat_0=53 +lon_0=24 +x_0=5837287.81977 +y_0=2121415.69617 +datum=WGS84 +units=m +no_defs',\n",
       "   'roles': ['data']},\n",
       "  'EU010M_E051N014T1_20230209T100732.tif': {'href': 'https://openeo-dev.eodc.eu/openeo/1.1.0/files/56383c4a-3445-4838-8af6-891144a6418e/result/EU010M_E051N014T1_20230209T100732.tif?Expires=1687325981&KeyName=SIGN_KEY_1&UserId=ae8b60a5-63f9-4fa5-9f1b-644fba6f8b60&Signature=Dk6TmVfbr_tT8Yu0itX5j0Oc_dI=',\n",
       "   'title': 'EU010M_E051N014T1_20230209T100732',\n",
       "   'equi7:proj': '+proj=aeqd +lat_0=53 +lon_0=24 +x_0=5837287.81977 +y_0=2121415.69617 +datum=WGS84 +units=m +no_defs',\n",
       "   'roles': ['data']},\n",
       "  'EU010M_E051N014T1_20230219T100731.tif': {'href': 'https://openeo-dev.eodc.eu/openeo/1.1.0/files/56383c4a-3445-4838-8af6-891144a6418e/result/EU010M_E051N014T1_20230219T100731.tif?Expires=1687325981&KeyName=SIGN_KEY_1&UserId=ae8b60a5-63f9-4fa5-9f1b-644fba6f8b60&Signature=OkYziqZ5dIdZo5M59anEqdKdU0g=',\n",
       "   'title': 'EU010M_E051N014T1_20230219T100731',\n",
       "   'equi7:proj': '+proj=aeqd +lat_0=53 +lon_0=24 +x_0=5837287.81977 +y_0=2121415.69617 +datum=WGS84 +units=m +no_defs',\n",
       "   'roles': ['data']},\n",
       "  'EU010M_E052N015T1_20230221T095736.tif': {'href': 'https://openeo-dev.eodc.eu/openeo/1.1.0/files/56383c4a-3445-4838-8af6-891144a6418e/result/EU010M_E052N015T1_20230221T095736.tif?Expires=1687325981&KeyName=SIGN_KEY_1&UserId=ae8b60a5-63f9-4fa5-9f1b-644fba6f8b60&Signature=_wSYfmYrtVhrWcNKfxG2d3Q26WE=',\n",
       "   'title': 'EU010M_E052N015T1_20230221T095736',\n",
       "   'equi7:proj': '+proj=aeqd +lat_0=53 +lon_0=24 +x_0=5837287.81977 +y_0=2121415.69617 +datum=WGS84 +units=m +no_defs',\n",
       "   'roles': ['data']},\n",
       "  'EU010M_E052N015T1_20230219T100731.tif': {'href': 'https://openeo-dev.eodc.eu/openeo/1.1.0/files/56383c4a-3445-4838-8af6-891144a6418e/result/EU010M_E052N015T1_20230219T100731.tif?Expires=1687325981&KeyName=SIGN_KEY_1&UserId=ae8b60a5-63f9-4fa5-9f1b-644fba6f8b60&Signature=ucV2Tt0in70_9fgOhP_zyoysTFk=',\n",
       "   'title': 'EU010M_E052N015T1_20230219T100731',\n",
       "   'equi7:proj': '+proj=aeqd +lat_0=53 +lon_0=24 +x_0=5837287.81977 +y_0=2121415.69617 +datum=WGS84 +units=m +no_defs',\n",
       "   'roles': ['data']},\n",
       "  'EU010M_E051N014T1_20230214T094604.tif': {'href': 'https://openeo-dev.eodc.eu/openeo/1.1.0/files/56383c4a-3445-4838-8af6-891144a6418e/result/EU010M_E051N014T1_20230214T094604.tif?Expires=1687325981&KeyName=SIGN_KEY_1&UserId=ae8b60a5-63f9-4fa5-9f1b-644fba6f8b60&Signature=JRDx3HT5Uisg8zAbEriQ6YW8lOA=',\n",
       "   'title': 'EU010M_E051N014T1_20230214T094604',\n",
       "   'equi7:proj': '+proj=aeqd +lat_0=53 +lon_0=24 +x_0=5837287.81977 +y_0=2121415.69617 +datum=WGS84 +units=m +no_defs',\n",
       "   'roles': ['data']},\n",
       "  'EU010M_E051N015T1_20230222T094543.tif': {'href': 'https://openeo-dev.eodc.eu/openeo/1.1.0/files/56383c4a-3445-4838-8af6-891144a6418e/result/EU010M_E051N015T1_20230222T094543.tif?Expires=1687325981&KeyName=SIGN_KEY_1&UserId=ae8b60a5-63f9-4fa5-9f1b-644fba6f8b60&Signature=Z7aAmbSkVlY-wwo_JsJ1K8eRUXM=',\n",
       "   'title': 'EU010M_E051N015T1_20230222T094543',\n",
       "   'equi7:proj': '+proj=aeqd +lat_0=53 +lon_0=24 +x_0=5837287.81977 +y_0=2121415.69617 +datum=WGS84 +units=m +no_defs',\n",
       "   'roles': ['data']},\n",
       "  'EU010M_E052N015T1_20230214T100732.tif': {'href': 'https://openeo-dev.eodc.eu/openeo/1.1.0/files/56383c4a-3445-4838-8af6-891144a6418e/result/EU010M_E052N015T1_20230214T100732.tif?Expires=1687325981&KeyName=SIGN_KEY_1&UserId=ae8b60a5-63f9-4fa5-9f1b-644fba6f8b60&Signature=NA6QAm7GhIqDYbTzYWFXHo8uxjc=',\n",
       "   'title': 'EU010M_E052N015T1_20230214T100732',\n",
       "   'equi7:proj': '+proj=aeqd +lat_0=53 +lon_0=24 +x_0=5837287.81977 +y_0=2121415.69617 +datum=WGS84 +units=m +no_defs',\n",
       "   'roles': ['data']},\n",
       "  'EU010M_E051N014T1_20230221T095736.tif': {'href': 'https://openeo-dev.eodc.eu/openeo/1.1.0/files/56383c4a-3445-4838-8af6-891144a6418e/result/EU010M_E051N014T1_20230221T095736.tif?Expires=1687325981&KeyName=SIGN_KEY_1&UserId=ae8b60a5-63f9-4fa5-9f1b-644fba6f8b60&Signature=vJ3o6fvw4AdyxISvt-67Zei1rlE=',\n",
       "   'title': 'EU010M_E051N014T1_20230221T095736',\n",
       "   'equi7:proj': '+proj=aeqd +lat_0=53 +lon_0=24 +x_0=5837287.81977 +y_0=2121415.69617 +datum=WGS84 +units=m +no_defs',\n",
       "   'roles': ['data']},\n",
       "  'EU010M_E051N015T1_20230214T100732.tif': {'href': 'https://openeo-dev.eodc.eu/openeo/1.1.0/files/56383c4a-3445-4838-8af6-891144a6418e/result/EU010M_E051N015T1_20230214T100732.tif?Expires=1687325981&KeyName=SIGN_KEY_1&UserId=ae8b60a5-63f9-4fa5-9f1b-644fba6f8b60&Signature=FrkLrycfxtI7sfTWLoT8wti5z7E=',\n",
       "   'title': 'EU010M_E051N015T1_20230214T100732',\n",
       "   'equi7:proj': '+proj=aeqd +lat_0=53 +lon_0=24 +x_0=5837287.81977 +y_0=2121415.69617 +datum=WGS84 +units=m +no_defs',\n",
       "   'roles': ['data']},\n",
       "  'EU010M_E051N015T1_20230209T100732.tif': {'href': 'https://openeo-dev.eodc.eu/openeo/1.1.0/files/56383c4a-3445-4838-8af6-891144a6418e/result/EU010M_E051N015T1_20230209T100732.tif?Expires=1687325981&KeyName=SIGN_KEY_1&UserId=ae8b60a5-63f9-4fa5-9f1b-644fba6f8b60&Signature=GUcO4F4DTbzpkDCHfUFGNTLChjY=',\n",
       "   'title': 'EU010M_E051N015T1_20230209T100732',\n",
       "   'equi7:proj': '+proj=aeqd +lat_0=53 +lon_0=24 +x_0=5837287.81977 +y_0=2121415.69617 +datum=WGS84 +units=m +no_defs',\n",
       "   'roles': ['data']},\n",
       "  'EU010M_E052N014T1_20230214T094604.tif': {'href': 'https://openeo-dev.eodc.eu/openeo/1.1.0/files/56383c4a-3445-4838-8af6-891144a6418e/result/EU010M_E052N014T1_20230214T094604.tif?Expires=1687325981&KeyName=SIGN_KEY_1&UserId=ae8b60a5-63f9-4fa5-9f1b-644fba6f8b60&Signature=CeQcLEiw0eNRS-DrCvnt_Kcscuw=',\n",
       "   'title': 'EU010M_E052N014T1_20230214T094604',\n",
       "   'equi7:proj': '+proj=aeqd +lat_0=53 +lon_0=24 +x_0=5837287.81977 +y_0=2121415.69617 +datum=WGS84 +units=m +no_defs',\n",
       "   'roles': ['data']},\n",
       "  'EU010M_E052N014T1_20230222T094543.tif': {'href': 'https://openeo-dev.eodc.eu/openeo/1.1.0/files/56383c4a-3445-4838-8af6-891144a6418e/result/EU010M_E052N014T1_20230222T094543.tif?Expires=1687325981&KeyName=SIGN_KEY_1&UserId=ae8b60a5-63f9-4fa5-9f1b-644fba6f8b60&Signature=URVo9vfzbmAsei9Ba_n6b5bjB9k=',\n",
       "   'title': 'EU010M_E052N014T1_20230222T094543',\n",
       "   'equi7:proj': '+proj=aeqd +lat_0=53 +lon_0=24 +x_0=5837287.81977 +y_0=2121415.69617 +datum=WGS84 +units=m +no_defs',\n",
       "   'roles': ['data']},\n",
       "  'EU010M_E051N014T1_20230214T100732.tif': {'href': 'https://openeo-dev.eodc.eu/openeo/1.1.0/files/56383c4a-3445-4838-8af6-891144a6418e/result/EU010M_E051N014T1_20230214T100732.tif?Expires=1687325981&KeyName=SIGN_KEY_1&UserId=ae8b60a5-63f9-4fa5-9f1b-644fba6f8b60&Signature=tnS2vuBkHBUPhD12kOCgdRo6F70=',\n",
       "   'title': 'EU010M_E051N014T1_20230214T100732',\n",
       "   'equi7:proj': '+proj=aeqd +lat_0=53 +lon_0=24 +x_0=5837287.81977 +y_0=2121415.69617 +datum=WGS84 +units=m +no_defs',\n",
       "   'roles': ['data']},\n",
       "  'EU010M_E052N015T1_20230222T094543.tif': {'href': 'https://openeo-dev.eodc.eu/openeo/1.1.0/files/56383c4a-3445-4838-8af6-891144a6418e/result/EU010M_E052N015T1_20230222T094543.tif?Expires=1687325981&KeyName=SIGN_KEY_1&UserId=ae8b60a5-63f9-4fa5-9f1b-644fba6f8b60&Signature=JVzR0c9lkmcIm8CEhLUeBFMYI4E=',\n",
       "   'title': 'EU010M_E052N015T1_20230222T094543',\n",
       "   'equi7:proj': '+proj=aeqd +lat_0=53 +lon_0=24 +x_0=5837287.81977 +y_0=2121415.69617 +datum=WGS84 +units=m +no_defs',\n",
       "   'roles': ['data']}},\n",
       " 'openeo:status': 'finished'}"
      ]
     },
     "execution_count": 17,
     "metadata": {},
     "output_type": "execute_result"
    }
   ],
   "source": [
    "metadata"
   ]
  },
  {
   "attachments": {},
   "cell_type": "markdown",
   "metadata": {},
   "source": [
    "### sen2like in openEO\n",
    "\n",
    "- The Sen2Like, demonstration processor has been developed by ESA in the framework of the EU Copernicus programme (https://www.copernicus.eu/). The main goal of Sen2Like is to generate Sentinel-2 like harmonised/fused surface reflectances with higher periodicity by integrating additional compatible optical mission sensors.\n",
    "\n",
    "- openEO provides an option to run the sen2like processor on the requested extent on an openEO backend. The backend takes care of getting the required input data and the computational resources to run sen2like on. openEO users can start sen2like jobs on the backend and download the results as in the example given above.\n",
    "\n",
    "### Auxiliary data (openEO takes care of the datasets)\n",
    "\n",
    "- sen2like expects Sentinel 2 and Landsat data\n",
    "    - additionally uses CAMS data:\n",
    "        - Total Aerosol Optical Depth at 550nm\n",
    "        - Total column water vapour\n",
    "        - Mean sea level pressure\n",
    "        - GEMS Total column ozone\n",
    "    - Sentinel 2 reference images:\n",
    "        - provided by ESA: https://s2gri.csgroup.space/?.language=en#/?.language=en\n",
    "        - e.g. https://s3.eu-central-2.wasabisys.com/s2-mpc/catalog/GRI_L1C/T04/T04Q/T04QCJ_item.json\n",
    "        \n",
    "### Results \n",
    "\n",
    "- openEO results (.nc or .tif) instead of .SAFE output format\n",
    "    - openEO output formats:\n",
    "        - GTiff, NetCDF (Rastercube)\n",
    "    - sen2like .SAFE\n",
    "        - AUX_DATA\n",
    "        - GRANULE\n",
    "        - DATASTRIP\n",
    "        - HTML\n",
    "        - MTD.xml\n",
    "        \n",
    "    - L2H, L2F\n",
    "    \n",
    "    - B01_60m, B11_20m, B02_10m, B12_20m, B03_10m,  B8A_20m, B04_10m"
   ]
  }
 ],
 "metadata": {
  "kernelspec": {
   "display_name": "Python 3",
   "language": "python",
   "name": "python3"
  },
  "language_info": {
   "codemirror_mode": {
    "name": "ipython",
    "version": 3
   },
   "file_extension": ".py",
   "mimetype": "text/x-python",
   "name": "python",
   "nbconvert_exporter": "python",
   "pygments_lexer": "ipython3",
   "version": "3.10.6"
  },
  "orig_nbformat": 4
 },
 "nbformat": 4,
 "nbformat_minor": 2
}
