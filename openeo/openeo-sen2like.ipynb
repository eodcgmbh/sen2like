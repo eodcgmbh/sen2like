{
 "cells": [
  {
   "cell_type": "markdown",
   "metadata": {},
   "source": [
    "# sen2like in openEO\n",
    "\n",
    "### sen2like\n",
    "\n",
    "The Sen2Like, demonstration processor has been developed by ESA in the framework of the EU Copernicus programme (https://www.copernicus.eu/). The main goal of Sen2Like is to generate Sentinel-2 like harmonised/fused surface reflectances with higher periodicity by integrating additional compatible optical mission sensors.\n",
    "\n",
    "https://github.com/senbox-org/sen2like\n",
    "\n",
    "### openEO\n",
    "\n",
    "openEO provides an option to run the sen2like processor on the requested extent on an openEO backend. The backend takes care of getting the required input data and the computational resources to run sen2like on. openEO users can start sen2like jobs on the backend and download the results as in the example given above.\n",
    "\n",
    "https://openeo.cloud/\n",
    "\n",
    "### Results\n",
    "\n",
    "The outputs of sen2like are stored in Sentinel 2 - like .SAFE folders. In openEO, users can choose between the output formats NetCDF and GeoTiff. For the sen2like processing in openEO, it is now additionally possible to download the original .SAFE folders. Therefore, the export_original_files parameter needs to be set to True. (See below)"
   ]
  },
  {
   "cell_type": "code",
   "execution_count": 1,
   "metadata": {},
   "outputs": [],
   "source": [
    "import openeo\n",
    "from openeo.rest.datacube import PGNode, THIS"
   ]
  },
  {
   "cell_type": "code",
   "execution_count": 2,
   "metadata": {},
   "outputs": [],
   "source": [
    "eodc = \"https://openeo-dev.eodc.eu/openeo/1.1.0/\""
   ]
  },
  {
   "cell_type": "code",
   "execution_count": 3,
   "metadata": {},
   "outputs": [
    {
     "name": "stdout",
     "output_type": "stream",
     "text": [
      "Authenticated using refresh token.\n"
     ]
    }
   ],
   "source": [
    "conn = openeo.connect(eodc).authenticate_oidc()"
   ]
  },
  {
   "cell_type": "code",
   "execution_count": 4,
   "metadata": {},
   "outputs": [
    {
     "data": {
      "text/html": [
       "\n",
       "    <script>\n",
       "    if (!window.customElements || !window.customElements.get('openeo-process')) {\n",
       "        var el = document.createElement('script');\n",
       "        el.src = \"https://cdn.jsdelivr.net/npm/@openeo/vue-components@2/assets/openeo.min.js\";\n",
       "        document.head.appendChild(el);\n",
       "\n",
       "        var font = document.createElement('font');\n",
       "        font.as = \"font\";\n",
       "        font.type = \"font/woff2\";\n",
       "        font.crossOrigin = true;\n",
       "        font.href = \"https://use.fontawesome.com/releases/v5.13.0/webfonts/fa-solid-900.woff2\"\n",
       "        document.head.appendChild(font);\n",
       "    }\n",
       "    </script>\n",
       "    <openeo-process>\n",
       "        <script type=\"application/json\">{\"show-graph\": true, \"provide-download\": false, \"process\": {\"id\": \"sen2like\", \"summary\": \"Run the Sen2like processor \", \"description\": \"The Sen2like processor generates Sentinel-2-like harmonised or fused surface reflectances with higher periodicity by integrating additional compatible optical mission sensors. The source code is available at https://github.com/senbox-org/sen2like.\", \"categories\": [\"cubes\"], \"parameters\": [{\"name\": \"data\", \"description\": \"The datacube for which to generate L2F & L2H level data.\", \"optional\": false, \"deprecated\": false, \"experimental\": false, \"schema\": {\"type\": \"object\", \"subtype\": \"datacube\", \"deprecated\": false}}, {\"name\": \"target_product\", \"description\": \"Per default the target_product is set to 'L2F' to generate the fused sen2like product. Set to 'L2H' to generate the harmonised product.\", \"optional\": true, \"deprecated\": false, \"experimental\": false, \"default\": \"L2F\", \"schema\": {\"type\": \"string\", \"deprecated\": false}}, {\"name\": \"cloud_cover\", \"description\": \"The Cloud coverage parameter (percentage) to filter MGRS image tile contaminates with strong cloud coverage. \", \"optional\": true, \"deprecated\": false, \"experimental\": false, \"default\": 50, \"schema\": {\"type\": [\"number\", \"null\"], \"deprecated\": false}}, {\"name\": \"export_original_files\", \"description\": \"Sen2like produces outputs following the Sentinel 2 .SAFE convention. To enable the download for these, set this to True. The results will then include .zip files with the .SAFE folders inside. \", \"optional\": true, \"deprecated\": false, \"experimental\": false, \"default\": false, \"schema\": {\"type\": \"boolean\", \"deprecated\": false}}], \"returns\": {\"description\": \"Sen2like enriched data cube for further processing. For further openEO processing on the sen2like datacube, the datacube is loaded in the Equi7 coordinate reference system, with the spatio-temporal extent of the initially requested data. The resolution is based on the highest resolution of the requested bands, where bands with lower resolution are resampled to the higher resolution respectively. \", \"schema\": {\"type\": \"object\", \"subtype\": \"datacube\", \"deprecated\": false}}, \"deprecated\": false, \"experimental\": true, \"links\": [{\"rel\": \"about\", \"href\": \"https://openeo.org/documentation/1.0/datacubes.html\", \"title\": \"Data Cubes explained in the openEO documentation\"}, {\"rel\": \"about\", \"href\": \"https://github.com/senbox-org/sen2like\", \"title\": \"Source code for the sen2like processor\"}]}}</script>\n",
       "    </openeo-process>\n",
       "    "
      ],
      "text/plain": [
       "{'id': 'sen2like',\n",
       " 'summary': 'Run the Sen2like processor ',\n",
       " 'description': 'The Sen2like processor generates Sentinel-2-like harmonised or fused surface reflectances with higher periodicity by integrating additional compatible optical mission sensors. The source code is available at https://github.com/senbox-org/sen2like.',\n",
       " 'categories': ['cubes'],\n",
       " 'parameters': [{'name': 'data',\n",
       "   'description': 'The datacube for which to generate L2F & L2H level data.',\n",
       "   'optional': False,\n",
       "   'deprecated': False,\n",
       "   'experimental': False,\n",
       "   'schema': {'type': 'object', 'subtype': 'datacube', 'deprecated': False}},\n",
       "  {'name': 'target_product',\n",
       "   'description': \"Per default the target_product is set to 'L2F' to generate the fused sen2like product. Set to 'L2H' to generate the harmonised product.\",\n",
       "   'optional': True,\n",
       "   'deprecated': False,\n",
       "   'experimental': False,\n",
       "   'default': 'L2F',\n",
       "   'schema': {'type': 'string', 'deprecated': False}},\n",
       "  {'name': 'cloud_cover',\n",
       "   'description': 'The Cloud coverage parameter (percentage) to filter MGRS image tile contaminates with strong cloud coverage. ',\n",
       "   'optional': True,\n",
       "   'deprecated': False,\n",
       "   'experimental': False,\n",
       "   'default': 50,\n",
       "   'schema': {'type': ['number', 'null'], 'deprecated': False}},\n",
       "  {'name': 'export_original_files',\n",
       "   'description': 'Sen2like produces outputs following the Sentinel 2 .SAFE convention. To enable the download for these, set this to True. The results will then include .zip files with the .SAFE folders inside. ',\n",
       "   'optional': True,\n",
       "   'deprecated': False,\n",
       "   'experimental': False,\n",
       "   'default': False,\n",
       "   'schema': {'type': 'boolean', 'deprecated': False}}],\n",
       " 'returns': {'description': 'Sen2like enriched data cube for further processing. For further openEO processing on the sen2like datacube, the datacube is loaded in the Equi7 coordinate reference system, with the spatio-temporal extent of the initially requested data. The resolution is based on the highest resolution of the requested bands, where bands with lower resolution are resampled to the higher resolution respectively. ',\n",
       "  'schema': {'type': 'object', 'subtype': 'datacube', 'deprecated': False}},\n",
       " 'deprecated': False,\n",
       " 'experimental': True,\n",
       " 'links': [{'rel': 'about',\n",
       "   'href': 'https://openeo.org/documentation/1.0/datacubes.html',\n",
       "   'title': 'Data Cubes explained in the openEO documentation'},\n",
       "  {'rel': 'about',\n",
       "   'href': 'https://github.com/senbox-org/sen2like',\n",
       "   'title': 'Source code for the sen2like processor'}]}"
      ]
     },
     "execution_count": 4,
     "metadata": {},
     "output_type": "execute_result"
    }
   ],
   "source": [
    "conn.describe_process(\"sen2like\")"
   ]
  },
  {
   "cell_type": "markdown",
   "metadata": {},
   "source": [
    "### Details in openEO's sen2like processing \n",
    "\n",
    "To create an openeo process graph, we define the spatial and temporal extent, we want to process. The bands which can be processed by sen2like are:\n",
    "- 'B01', 'B02', 'B03', 'B04', 'B05', 'B06', 'B07', 'B08', 'B8A', 'B11','B12'\n",
    "\n",
    "For sen2like, we additionally set the parameters: \n",
    "- target_product, which can be L2F or L2H\n",
    "- the cloud_cover, which is between 1 and 100. The lower the value, the lower the cloud cover for the files must be - files with higher cloud cover are ignored.\n",
    "- export_original_files: can be True or False - if True, the .SAFE folders are an output of the openEO process as well."
   ]
  },
  {
   "cell_type": "code",
   "execution_count": 5,
   "metadata": {},
   "outputs": [],
   "source": [
    "collection      = 'SENTINEL2_L1C'\n",
    "spatial_extent  = {\"west\": 15.6, \"east\": 15.7, \"south\": 46.5, \"north\": 46.6}\n",
    "temporal_extent = [\"2023-07-01\", \"2023-09-30\"]\n",
    "bands = [\"B02\", \"B03\", \"B04\"]\n",
    "\n",
    "S2 = conn.load_collection(collection, spatial_extent=spatial_extent, temporal_extent=temporal_extent, bands=bands)\n",
    "sen2like = S2.process('sen2like', {\n",
    "    'data': THIS,\n",
    "    'target_product': 'L2F', \n",
    "    'export_original_files': True,\n",
    "    'cloud_cover': 50}) "
   ]
  },
  {
   "cell_type": "code",
   "execution_count": 6,
   "metadata": {},
   "outputs": [
    {
     "data": {
      "text/plain": [
       "{'loadcollection1': {'process_id': 'load_collection',\n",
       "  'arguments': {'bands': ['B02', 'B03', 'B04'],\n",
       "   'id': 'SENTINEL2_L1C',\n",
       "   'spatial_extent': {'west': 15.6,\n",
       "    'east': 15.7,\n",
       "    'south': 46.5,\n",
       "    'north': 46.6},\n",
       "   'temporal_extent': ['2023-07-01', '2023-09-30']}},\n",
       " 'sen2like1': {'process_id': 'sen2like',\n",
       "  'arguments': {'cloud_cover': 50,\n",
       "   'data': {'from_node': 'loadcollection1'},\n",
       "   'export_original_files': True,\n",
       "   'target_product': 'L2F'},\n",
       "  'result': True}}"
      ]
     },
     "execution_count": 6,
     "metadata": {},
     "output_type": "execute_result"
    }
   ],
   "source": [
    "sen2like.flat_graph()"
   ]
  },
  {
   "cell_type": "markdown",
   "metadata": {},
   "source": [
    "We create and start the openEO batch job:"
   ]
  },
  {
   "cell_type": "code",
   "execution_count": 7,
   "metadata": {},
   "outputs": [],
   "source": [
    "job = conn.create_job(sen2like.flat_graph()).start_job()"
   ]
  },
  {
   "cell_type": "code",
   "execution_count": 8,
   "metadata": {},
   "outputs": [
    {
     "data": {
      "text/html": [
       "\n",
       "    <script>\n",
       "    if (!window.customElements || !window.customElements.get('openeo-job')) {\n",
       "        var el = document.createElement('script');\n",
       "        el.src = \"https://cdn.jsdelivr.net/npm/@openeo/vue-components@2/assets/openeo.min.js\";\n",
       "        document.head.appendChild(el);\n",
       "\n",
       "        var font = document.createElement('font');\n",
       "        font.as = \"font\";\n",
       "        font.type = \"font/woff2\";\n",
       "        font.crossOrigin = true;\n",
       "        font.href = \"https://use.fontawesome.com/releases/v5.13.0/webfonts/fa-solid-900.woff2\"\n",
       "        document.head.appendChild(font);\n",
       "    }\n",
       "    </script>\n",
       "    <openeo-job>\n",
       "        <script type=\"application/json\">{\"currency\": \"credits\", \"job\": {\"id\": \"41cee886-f2b5-4f52-b9b5-89317644bda2\", \"process\": {\"categories\": [], \"deprecated\": false, \"experimental\": false, \"process_graph\": {\"loadcollection1\": {\"process_id\": \"load_collection\", \"arguments\": {\"bands\": [\"B02\", \"B03\", \"B04\"], \"id\": \"SENTINEL2_L1C\", \"spatial_extent\": {\"west\": 15.6, \"east\": 15.7, \"south\": 46.5, \"north\": 46.6}, \"temporal_extent\": [\"2023-07-01\", \"2023-09-30\"]}}, \"sen2like1\": {\"process_id\": \"sen2like\", \"arguments\": {\"cloud_cover\": 50, \"data\": {\"from_node\": \"loadcollection1\"}, \"export_original_files\": true, \"target_product\": \"L2F\"}, \"result\": true}}}, \"status\": \"running\", \"created\": \"2024-12-19T09:14:05Z\"}}</script>\n",
       "    </openeo-job>\n",
       "    "
      ],
      "text/plain": [
       "<BatchJob job_id='41cee886-f2b5-4f52-b9b5-89317644bda2'>"
      ]
     },
     "execution_count": 8,
     "metadata": {},
     "output_type": "execute_result"
    }
   ],
   "source": [
    "job"
   ]
  },
  {
   "cell_type": "code",
   "execution_count": 9,
   "metadata": {},
   "outputs": [
    {
     "data": {
      "text/plain": [
       "'finished'"
      ]
     },
     "execution_count": 9,
     "metadata": {},
     "output_type": "execute_result"
    }
   ],
   "source": [
    "job.status()"
   ]
  },
  {
   "cell_type": "markdown",
   "metadata": {},
   "source": [
    "When the job is finished, the results can be downloaded. "
   ]
  },
  {
   "cell_type": "code",
   "execution_count": 10,
   "metadata": {},
   "outputs": [],
   "source": [
    "results = job.get_results()\n",
    "metadata = results.get_metadata()"
   ]
  },
  {
   "cell_type": "markdown",
   "metadata": {},
   "source": [
    "Sen2like produces .SAFE files, which are zipped in order to enable the download. These can be found in the metadata assets: E.g.: "
   ]
  },
  {
   "cell_type": "code",
   "execution_count": 13,
   "metadata": {},
   "outputs": [
    {
     "data": {
      "text/plain": [
       "{'href': 'https://openeo.eodc.eu/openeo/1.1.0/files/db4c5212-1900-4b44-98eb-beb201dd7efe/OPENEO/results/S2A_MSIL2F_20230815T095031_N0404_R079_T33TWM_20240308T095024.zip?Expires=1710505168&KeyName=SIGN_KEY_1&UserId=2c3c496d-935a-4f39-b246-da2da4e07a6a&Signature=ADrPkUm8B_q_hICGC00Aw2Ec2KI=',\n",
       " 'title': 'S2A_MSIL2F_20230815T095031_N0404_R079_T33TWM_20240308T095024',\n",
       " 'proj:epsg': 32633,\n",
       " 'roles': ['data']}"
      ]
     },
     "execution_count": 13,
     "metadata": {},
     "output_type": "execute_result"
    }
   ],
   "source": [
    "metadata['assets']['S2A_MSIL2F_20230815T095031_N0404_R079_T33TWM_20240308T095024.SAFE']"
   ]
  },
  {
   "cell_type": "markdown",
   "metadata": {},
   "source": [
    "### Auxiliary data (openEO takes care of the datasets)\n",
    "\n",
    "Using openEO to process sen2like, the user does not have to take care of getting the input datasets - as they are provided by the backend. \n",
    "\n",
    "Not only does the backend provide you with the Sentinel 2 and Landsat 8 & 9 data, that is required, but it also includes all auxiliary data, needed by sen2like, automatically. Such as:\n",
    "\n",
    "- CAMS data:\n",
    "    Available data includes information about\n",
    "    - Total Aerosol Optical Depth at 550nm\n",
    "    - Total column water vapour\n",
    "    - Mean sea level pressure\n",
    "    - GEMS Total column ozone\n",
    "- Sentinel 2 reference images:\n",
    "    - Original source: https://s2gri.csgroup.space/\n",
    "- Digital elevation model: \n",
    "    - Original source: https://sentinels.copernicus.eu/web/sentinel/-/copernicus-dem-new-direct-data-download-access\n"
   ]
  }
 ],
 "metadata": {
  "kernelspec": {
   "display_name": ".venv",
   "language": "python",
   "name": "python3"
  },
  "language_info": {
   "codemirror_mode": {
    "name": "ipython",
    "version": 3
   },
   "file_extension": ".py",
   "mimetype": "text/x-python",
   "name": "python",
   "nbconvert_exporter": "python",
   "pygments_lexer": "ipython3",
   "version": "3.11.0"
  }
 },
 "nbformat": 4,
 "nbformat_minor": 4
}
